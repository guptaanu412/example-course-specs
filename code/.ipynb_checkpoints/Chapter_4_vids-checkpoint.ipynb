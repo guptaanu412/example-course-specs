{
 "cells": [
  {
   "cell_type": "markdown",
   "metadata": {},
   "source": [
    "# Chapter 4: Preprocessing and pipelines"
   ]
  },
  {
   "cell_type": "code",
   "execution_count": 1,
   "metadata": {
    "collapsed": false
   },
   "outputs": [],
   "source": [
    "import numpy as np\n",
    "import pandas as pd\n",
    "%matplotlib inline\n",
    "import matplotlib.pyplot as plt"
   ]
  },
  {
   "cell_type": "markdown",
   "metadata": {},
   "source": [
    "## Exercise 1 (Video): Preprocessing and pipelines I: Imputing Missing Data\n"
   ]
  },
  {
   "cell_type": "markdown",
   "metadata": {},
   "source": [
    "Introduce the idea of pipelines and preprocessing. Use the PIMA Indians\n",
    "dataset to introduce data imputation as the first stage of\n",
    "preprocessing.\n",
    "\n",
    "Note: In this dataset, there are no NaNs. 0 denotes missing values in all columns except 'diabetes'."
   ]
  },
  {
   "cell_type": "code",
   "execution_count": 2,
   "metadata": {
    "collapsed": false
   },
   "outputs": [
    {
     "data": {
      "text/html": [
       "<div>\n",
       "<table border=\"1\" class=\"dataframe\">\n",
       "  <thead>\n",
       "    <tr style=\"text-align: right;\">\n",
       "      <th></th>\n",
       "      <th>pregnancies</th>\n",
       "      <th>glucose</th>\n",
       "      <th>diastolic</th>\n",
       "      <th>triceps</th>\n",
       "      <th>insulin</th>\n",
       "      <th>bmi</th>\n",
       "      <th>dpf</th>\n",
       "      <th>age</th>\n",
       "      <th>diabetes</th>\n",
       "    </tr>\n",
       "  </thead>\n",
       "  <tbody>\n",
       "    <tr>\n",
       "      <th>0</th>\n",
       "      <td>6</td>\n",
       "      <td>148</td>\n",
       "      <td>72</td>\n",
       "      <td>35</td>\n",
       "      <td>0</td>\n",
       "      <td>33.6</td>\n",
       "      <td>0.627</td>\n",
       "      <td>50</td>\n",
       "      <td>1</td>\n",
       "    </tr>\n",
       "    <tr>\n",
       "      <th>1</th>\n",
       "      <td>1</td>\n",
       "      <td>85</td>\n",
       "      <td>66</td>\n",
       "      <td>29</td>\n",
       "      <td>0</td>\n",
       "      <td>26.6</td>\n",
       "      <td>0.351</td>\n",
       "      <td>31</td>\n",
       "      <td>0</td>\n",
       "    </tr>\n",
       "    <tr>\n",
       "      <th>2</th>\n",
       "      <td>8</td>\n",
       "      <td>183</td>\n",
       "      <td>64</td>\n",
       "      <td>0</td>\n",
       "      <td>0</td>\n",
       "      <td>23.3</td>\n",
       "      <td>0.672</td>\n",
       "      <td>32</td>\n",
       "      <td>1</td>\n",
       "    </tr>\n",
       "    <tr>\n",
       "      <th>3</th>\n",
       "      <td>1</td>\n",
       "      <td>89</td>\n",
       "      <td>66</td>\n",
       "      <td>23</td>\n",
       "      <td>94</td>\n",
       "      <td>28.1</td>\n",
       "      <td>0.167</td>\n",
       "      <td>21</td>\n",
       "      <td>0</td>\n",
       "    </tr>\n",
       "    <tr>\n",
       "      <th>4</th>\n",
       "      <td>0</td>\n",
       "      <td>137</td>\n",
       "      <td>40</td>\n",
       "      <td>35</td>\n",
       "      <td>168</td>\n",
       "      <td>43.1</td>\n",
       "      <td>2.288</td>\n",
       "      <td>33</td>\n",
       "      <td>1</td>\n",
       "    </tr>\n",
       "  </tbody>\n",
       "</table>\n",
       "</div>"
      ],
      "text/plain": [
       "   pregnancies  glucose  diastolic  triceps  insulin   bmi    dpf  age  \\\n",
       "0            6      148         72       35        0  33.6  0.627   50   \n",
       "1            1       85         66       29        0  26.6  0.351   31   \n",
       "2            8      183         64        0        0  23.3  0.672   32   \n",
       "3            1       89         66       23       94  28.1  0.167   21   \n",
       "4            0      137         40       35      168  43.1  2.288   33   \n",
       "\n",
       "   diabetes  \n",
       "0         1  \n",
       "1         0  \n",
       "2         1  \n",
       "3         0  \n",
       "4         1  "
      ]
     },
     "execution_count": 2,
     "metadata": {},
     "output_type": "execute_result"
    }
   ],
   "source": [
    "df = pd.read_csv('../datasets/diabetes.csv',\n",
    "                header=None, names = ['pregnancies', 'glucose', 'diastolic', 'triceps', 'insulin', 'bmi',\n",
    "                                     'dpf', 'age', 'diabetes'])\n",
    "df.head()"
   ]
  },
  {
   "cell_type": "code",
   "execution_count": 3,
   "metadata": {
    "collapsed": false
   },
   "outputs": [
    {
     "data": {
      "text/plain": [
       "(768, 9)"
      ]
     },
     "execution_count": 3,
     "metadata": {},
     "output_type": "execute_result"
    }
   ],
   "source": [
    "df.shape"
   ]
  },
  {
   "cell_type": "code",
   "execution_count": 4,
   "metadata": {
    "collapsed": false
   },
   "outputs": [
    {
     "name": "stdout",
     "output_type": "stream",
     "text": [
      "<class 'pandas.core.frame.DataFrame'>\n",
      "RangeIndex: 768 entries, 0 to 767\n",
      "Data columns (total 9 columns):\n",
      "pregnancies    768 non-null int64\n",
      "glucose        768 non-null int64\n",
      "diastolic      768 non-null int64\n",
      "triceps        768 non-null int64\n",
      "insulin        768 non-null int64\n",
      "bmi            768 non-null float64\n",
      "dpf            768 non-null float64\n",
      "age            768 non-null int64\n",
      "diabetes       768 non-null int64\n",
      "dtypes: float64(2), int64(7)\n",
      "memory usage: 54.1 KB\n"
     ]
    }
   ],
   "source": [
    "#Point out how there are no null entries!\n",
    "df.info()"
   ]
  },
  {
   "cell_type": "markdown",
   "metadata": {},
   "source": [
    "### No Missing Values? Hold your horses!"
   ]
  },
  {
   "cell_type": "code",
   "execution_count": 5,
   "metadata": {
    "collapsed": false
   },
   "outputs": [
    {
     "data": {
      "text/plain": [
       "0     227\n",
       "32     31\n",
       "30     27\n",
       "27     23\n",
       "23     22\n",
       "Name: triceps, dtype: int64"
      ]
     },
     "execution_count": 5,
     "metadata": {},
     "output_type": "execute_result"
    }
   ],
   "source": [
    "df.triceps.value_counts().head()"
   ]
  },
  {
   "cell_type": "code",
   "execution_count": 6,
   "metadata": {
    "collapsed": false
   },
   "outputs": [
    {
     "data": {
      "text/plain": [
       "0      374\n",
       "105     11\n",
       "140      9\n",
       "130      9\n",
       "120      8\n",
       "Name: insulin, dtype: int64"
      ]
     },
     "execution_count": 6,
     "metadata": {},
     "output_type": "execute_result"
    }
   ],
   "source": [
    "df.insulin.value_counts().head()"
   ]
  },
  {
   "cell_type": "code",
   "execution_count": 7,
   "metadata": {
    "collapsed": false
   },
   "outputs": [
    {
     "data": {
      "text/plain": [
       "32.0    13\n",
       "31.6    12\n",
       "31.2    12\n",
       "0.0     11\n",
       "33.3    10\n",
       "Name: bmi, dtype: int64"
      ]
     },
     "execution_count": 7,
     "metadata": {},
     "output_type": "execute_result"
    }
   ],
   "source": [
    "df.bmi.value_counts().head()"
   ]
  },
  {
   "cell_type": "markdown",
   "metadata": {},
   "source": [
    "#### Insulin Level of 0? Skin thickness of 0? BMI of 0? It seems 0 is used to encode missing data here!\n"
   ]
  },
  {
   "cell_type": "markdown",
   "metadata": {},
   "source": [
    "### Imputation Strategy #1: Drop Rows with Missing Values"
   ]
  },
  {
   "cell_type": "code",
   "execution_count": 8,
   "metadata": {
    "collapsed": true
   },
   "outputs": [],
   "source": [
    "#Replace 0 with NaNs, and then dropna()\n",
    "#Alternative approach: Just delete the 0s w/o dropna but there is value in the students learning dropna()\n",
    "\n",
    "df2 = df.copy(deep=True)\n",
    "df2.insulin.replace(0, np.nan, inplace=True)\n",
    "df2.triceps.replace(0, np.nan, inplace=True)\n",
    "df2.bmi.replace(0, np.nan, inplace=True)"
   ]
  },
  {
   "cell_type": "code",
   "execution_count": 9,
   "metadata": {
    "collapsed": false
   },
   "outputs": [
    {
     "name": "stdout",
     "output_type": "stream",
     "text": [
      "Shape of DataFrame After Dropping All Rows with Missing Values: (393, 9)\n"
     ]
    }
   ],
   "source": [
    "#We have now lost almost 50% of the data. Not good!\n",
    "\n",
    "df2 = df2.dropna()\n",
    "print(\"Shape of DataFrame After Dropping All Rows with Missing Values: \" + str(df2.shape))"
   ]
  },
  {
   "cell_type": "markdown",
   "metadata": {},
   "source": [
    "### Imputation Strategy #2: Mean of Column"
   ]
  },
  {
   "cell_type": "markdown",
   "metadata": {},
   "source": [
    "#### Introducing Pipelines: Imputing missing values and fitting a random forest classifier in one pipeline"
   ]
  },
  {
   "cell_type": "code",
   "execution_count": 10,
   "metadata": {
    "collapsed": false
   },
   "outputs": [
    {
     "name": "stdout",
     "output_type": "stream",
     "text": [
      "Accuracy: 0.731601731602\n",
      "             precision    recall  f1-score   support\n",
      "\n",
      "          0       0.78      0.81      0.80       151\n",
      "          1       0.62      0.57      0.60        80\n",
      "\n",
      "avg / total       0.73      0.73      0.73       231\n",
      "\n"
     ]
    }
   ],
   "source": [
    "from sklearn.preprocessing import Imputer\n",
    "from sklearn.pipeline import Pipeline\n",
    "from sklearn import svm\n",
    "from sklearn.model_selection import train_test_split\n",
    "from sklearn.metrics import accuracy_score\n",
    "from sklearn.metrics import classification_report\n",
    "from sklearn.ensemble import RandomForestClassifier\n",
    "\n",
    "# Create arrays for the features and the response variable. As a reminder, the response variable is 'party'\n",
    "y = df['diabetes']\n",
    "X = df.drop('diabetes', axis=1)\n",
    "\n",
    "imp = Imputer(missing_values='NaN', strategy='mean', axis=0)\n",
    "clf = RandomForestClassifier()\n",
    "\n",
    "steps = [('imputation', imp),\n",
    "        ('random_forest', clf)]\n",
    "\n",
    "X_train, X_test, y_train, y_test = train_test_split(X, y, test_size=0.3, random_state=42)\n",
    "\n",
    "pipeline = Pipeline(steps)\n",
    "\n",
    "pipeline.fit(X_train, y_train)\n",
    "\n",
    "y_pred = pipeline.predict(X_test)\n",
    "\n",
    "print(\"Accuracy: \" + str(accuracy_score(y_test, y_pred)))\n",
    "print(classification_report(y_test, y_pred))"
   ]
  },
  {
   "cell_type": "markdown",
   "metadata": {},
   "source": [
    "## Exercise 5 (Video): Preprocessing and Pipelines II: Centering and Scaling"
   ]
  },
  {
   "cell_type": "markdown",
   "metadata": {},
   "source": [
    "Discuss the importance of scaling and centering data to improve model\n",
    "performance, especially for methods such as K-NN. Demonstrate using\n",
    "breast-cancer dataset."
   ]
  },
  {
   "cell_type": "markdown",
   "metadata": {},
   "source": [
    "### Breast Cancer"
   ]
  },
  {
   "cell_type": "code",
   "execution_count": 11,
   "metadata": {
    "collapsed": true
   },
   "outputs": [],
   "source": [
    "from sklearn import datasets\n",
    "bc_data = datasets.load_breast_cancer()\n",
    "\n",
    "bc_y = bc_data['target']\n",
    "bc_X = bc_data['data']\n",
    "bc_df = pd.DataFrame(bc_X, columns=bc_data.feature_names)"
   ]
  },
  {
   "cell_type": "markdown",
   "metadata": {},
   "source": [
    "### Breast Cancer: K-NN Performance w/o Scaling"
   ]
  },
  {
   "cell_type": "code",
   "execution_count": 12,
   "metadata": {
    "collapsed": false
   },
   "outputs": [
    {
     "name": "stdout",
     "output_type": "stream",
     "text": [
      "k-NN score for test set: 0.929825\n",
      "k-NN score for training set: 0.938462\n",
      "             precision    recall  f1-score   support\n",
      "\n",
      "          0       0.94      0.85      0.89        39\n",
      "          1       0.92      0.97      0.95        75\n",
      "\n",
      "avg / total       0.93      0.93      0.93       114\n",
      "\n"
     ]
    }
   ],
   "source": [
    "from sklearn.neighbors import KNeighborsClassifier \n",
    "from sklearn.metrics import classification_report\n",
    "from sklearn.metrics import accuracy_score\n",
    "\n",
    "bc_X_train, bc_X_test, bc_y_train, bc_y_test = train_test_split(\n",
    "        bc_data['data'], bc_data['target'], test_size=0.2, random_state=21)\n",
    "        \n",
    "bc_knn = KNeighborsClassifier(n_neighbors=17)\n",
    "bc_knn.fit(bc_X_train, bc_y_train)\n",
    "bc_y_pred = bc_knn.predict(bc_X_test)\n",
    "print('k-NN score for test set: %f' % bc_knn.score(bc_X_test, bc_y_test))\n",
    "print('k-NN score for training set: %f' % bc_knn.score(bc_X_train, bc_y_train))\n",
    "print(classification_report(bc_y_test, bc_y_pred))"
   ]
  },
  {
   "cell_type": "markdown",
   "metadata": {},
   "source": [
    "### Breast Cancer: K-NN Performance After Scaling"
   ]
  },
  {
   "cell_type": "code",
   "execution_count": 13,
   "metadata": {
    "collapsed": false
   },
   "outputs": [
    {
     "name": "stdout",
     "output_type": "stream",
     "text": [
      "k-NN score for test set: 0.956140\n",
      "k-NN score for training set: 0.960440\n",
      "             precision    recall  f1-score   support\n",
      "\n",
      "          0       1.00      0.87      0.93        39\n",
      "          1       0.94      1.00      0.97        75\n",
      "\n",
      "avg / total       0.96      0.96      0.96       114\n",
      "\n"
     ]
    }
   ],
   "source": [
    "from sklearn.preprocessing import scale\n",
    "\n",
    "Xs = scale(bc_X)\n",
    "Xs_train, Xs_test, y_train, y_test = train_test_split(Xs, bc_y, test_size=0.2, random_state=21)\n",
    "knn_model_2 = bc_knn.fit(Xs_train, y_train)\n",
    "print('k-NN score for test set: %f' % knn_model_2.score(Xs_test, y_test))\n",
    "print('k-NN score for training set: %f' % knn_model_2.score(Xs_train, y_train))\n",
    "y_true, y_pred = y_test, knn_model_2.predict(Xs_test)\n",
    "print(classification_report(y_true, y_pred))"
   ]
  },
  {
   "cell_type": "markdown",
   "metadata": {},
   "source": [
    "### Breast Cancer: Logistic Regression w/o Scaling"
   ]
  },
  {
   "cell_type": "code",
   "execution_count": 14,
   "metadata": {
    "collapsed": false
   },
   "outputs": [
    {
     "name": "stdout",
     "output_type": "stream",
     "text": [
      "Logistic Regression score for training set: 0.953846\n",
      "Logistic Regression score for test set: 0.938596\n",
      "             precision    recall  f1-score   support\n",
      "\n",
      "          0       0.94      0.87      0.91        39\n",
      "          1       0.94      0.97      0.95        75\n",
      "\n",
      "avg / total       0.94      0.94      0.94       114\n",
      "\n"
     ]
    }
   ],
   "source": [
    "from sklearn import linear_model\n",
    "\n",
    "\n",
    "lr = linear_model.LogisticRegression()\n",
    "# fit the model\n",
    "lr = lr.fit(bc_X_train, bc_y_train)\n",
    "print('Logistic Regression score for training set: %f' % lr.score(bc_X_train, bc_y_train))\n",
    "print('Logistic Regression score for test set: %f' % lr.score(bc_X_test, bc_y_test))\n",
    "from sklearn.metrics import classification_report\n",
    "y_true, y_pred = bc_y_test, lr.predict(bc_X_test)\n",
    "print(classification_report(y_true, y_pred))"
   ]
  },
  {
   "cell_type": "markdown",
   "metadata": {},
   "source": [
    "### Breast Cancer: Logistic Regression after Scaling"
   ]
  },
  {
   "cell_type": "code",
   "execution_count": 15,
   "metadata": {
    "collapsed": false
   },
   "outputs": [
    {
     "name": "stdout",
     "output_type": "stream",
     "text": [
      "Scaled Logistic Regression score for training set: 0.986813\n",
      "Scaled Logistic Regression score for test set: 0.973684\n",
      "             precision    recall  f1-score   support\n",
      "\n",
      "          0       0.98      0.95      0.96        43\n",
      "          1       0.97      0.99      0.98        71\n",
      "\n",
      "avg / total       0.97      0.97      0.97       114\n",
      "\n"
     ]
    }
   ],
   "source": [
    "Xs = scale(bc_X)\n",
    "Xs_train, Xs_test, y_train, y_test = train_test_split(Xs, bc_y, test_size=0.2, random_state=42)\n",
    "lr_2 = lr.fit(Xs_train, y_train)\n",
    "print('Scaled Logistic Regression score for training set: %f' % lr_2.score(Xs_train, y_train))\n",
    "print('Scaled Logistic Regression score for test set: %f' % lr_2.score(Xs_test, y_test))\n",
    "y_true, y_pred = y_test, lr_2.predict(Xs_test)\n",
    "print(classification_report(y_true, y_pred))"
   ]
  },
  {
   "cell_type": "markdown",
   "metadata": {},
   "source": [
    "## Exercise 9 (Video): Pre-processing and Pipelines III: Dimensionality Reduction"
   ]
  },
  {
   "cell_type": "markdown",
   "metadata": {},
   "source": [
    "Briefly introduce the idea of dimensionality reduction and demonstrate\n",
    "PCA on the breast cancer data. Use PCA along with hyperparameter\n",
    "tuning inside a pipeline to show the entire ML process."
   ]
  },
  {
   "cell_type": "code",
   "execution_count": 18,
   "metadata": {
    "collapsed": false,
    "scrolled": true
   },
   "outputs": [
    {
     "name": "stdout",
     "output_type": "stream",
     "text": [
      "[[  5.08623202e-03   2.19657026e-03   3.50763298e-02   5.16826469e-01\n",
      "    4.23694535e-06   4.05260047e-05   8.19399539e-05   4.77807775e-05\n",
      "    7.07804332e-06  -2.62155251e-06   3.13742507e-04  -6.50984008e-05\n",
      "    2.23634150e-03   5.57271669e-02  -8.05646029e-07   5.51918197e-06\n",
      "    8.87094462e-06   3.27915009e-06  -1.24101836e-06  -8.54530832e-08\n",
      "    7.15473257e-03   3.06736622e-03   4.94576447e-02   8.52063392e-01\n",
      "    6.42005481e-06   1.01275937e-04   1.68928625e-04   7.36658178e-05\n",
      "    1.78986262e-05   1.61356159e-06]\n",
      " [  9.28705650e-03  -2.88160658e-03   6.27480827e-02   8.51823720e-01\n",
      "   -1.48194356e-05  -2.68862249e-06   7.51419574e-05   4.63501038e-05\n",
      "   -2.52430431e-05  -1.61197148e-05  -5.38692831e-05   3.48370414e-04\n",
      "    8.19640791e-04   7.51112451e-03   1.49438131e-06   1.27357957e-05\n",
      "    2.86921009e-05   9.36007477e-06   1.22647432e-05   2.89683790e-07\n",
      "   -5.68673345e-04  -1.32152605e-02  -1.85961117e-04  -5.19742358e-01\n",
      "   -7.68565692e-05  -2.56104144e-04  -1.75471479e-04  -3.05051743e-05\n",
      "   -1.57042845e-04  -5.53071662e-05]\n",
      " [ -1.23425821e-02  -6.35497857e-03  -7.16694814e-02  -2.78944181e-02\n",
      "    7.26596827e-05   1.01754350e-04   2.65989729e-04   3.60471764e-05\n",
      "    1.41290958e-04   5.06376971e-05   6.06156709e-03   6.23377635e-03\n",
      "    4.38560369e-02   9.90245878e-01   4.34471433e-05   1.27658711e-04\n",
      "    2.07365800e-04   4.78855144e-05   1.14411270e-04   2.43158370e-05\n",
      "   -1.55659935e-02  -3.15446196e-02  -9.23133791e-02  -3.93186778e-02\n",
      "   -4.21307399e-05  -7.64833237e-04  -8.46552237e-04  -3.33596393e-04\n",
      "   -3.49992952e-04  -4.09371692e-05]\n",
      " [ -3.42380473e-02  -3.62415111e-01  -3.29281417e-01   3.94122494e-02\n",
      "   -3.44153009e-04  -3.00489873e-03  -3.40779110e-03  -1.24725032e-03\n",
      "   -9.66809714e-04  -1.99194796e-04  -4.08618843e-03  -2.26398666e-02\n",
      "   -4.98565303e-02  -1.01980275e-01   6.69114619e-06  -8.93263012e-04\n",
      "   -9.95328878e-04  -2.34560912e-04  -1.24528446e-04  -6.72412843e-05\n",
      "   -6.18999387e-02  -5.42057412e-01  -6.66816451e-01   3.87691524e-02\n",
      "   -7.21927589e-04  -1.03619614e-02  -1.15618071e-02  -2.99467373e-03\n",
      "   -2.64085170e-03  -9.08697292e-04]]\n",
      "[  9.82044672e-01   1.61764899e-02   1.55751075e-03   1.20931964e-04]\n"
     ]
    }
   ],
   "source": [
    "bc_data = datasets.load_breast_cancer()\n",
    "\n",
    "bc_y = bc_data['target']\n",
    "bc_X = bc_data['data']\n",
    "bc_df = pd.DataFrame(bc_X, columns=bc_data.feature_names)\n",
    "\n",
    "\n",
    "from sklearn.decomposition import PCA\n",
    "pca = PCA(n_components = 4)\n",
    "pca.fit(bc_X)\n",
    "\n",
    "# Print the components and the amount of variance in the data contained in each dimension\n",
    "print(pca.components_)\n",
    "print(pca.explained_variance_ratio_)"
   ]
  },
  {
   "cell_type": "markdown",
   "metadata": {},
   "source": [
    "#### One component explains 98% of the variance?! Need to scale! "
   ]
  },
  {
   "cell_type": "code",
   "execution_count": 19,
   "metadata": {
    "collapsed": false
   },
   "outputs": [
    {
     "data": {
      "image/png": "[encoded data removed]",
      "text/plain": [
       "<matplotlib.figure.Figure at 0x1156262b0>"
      ]
     },
     "metadata": {},
     "output_type": "display_data"
    }
   ],
   "source": [
    "scaler = StandardScaler()\n",
    "Xs = scaler.fit_transform(bc_X)\n",
    "\n",
    "pca = PCA()\n",
    "pca.fit(Xs)\n",
    "\n",
    "plt.plot(pca.explained_variance_, linewidth=2)\n",
    "plt.xlabel('n_components')\n",
    "plt.ylabel('explained_variance_')\n",
    "plt.show()"
   ]
  },
  {
   "cell_type": "markdown",
   "metadata": {},
   "source": [
    "Note: PCA isn't actually boosting performance here. It can help make things more interpretable, however."
   ]
  },
  {
   "cell_type": "code",
   "execution_count": 20,
   "metadata": {
    "collapsed": false
   },
   "outputs": [
    {
     "name": "stdout",
     "output_type": "stream",
     "text": [
      "Accuracy: 0.956140350877\n",
      "             precision    recall  f1-score   support\n",
      "\n",
      "          0       0.97      0.90      0.93        39\n",
      "          1       0.95      0.99      0.97        75\n",
      "\n",
      "avg / total       0.96      0.96      0.96       114\n",
      "\n",
      "Tuned Model Parameters: {'random_forest__n_estimators': 50, 'pca__n_components': 7}\n"
     ]
    }
   ],
   "source": [
    "from sklearn.model_selection import GridSearchCV\n",
    "\n",
    "pca = PCA()\n",
    "\n",
    "clf = RandomForestClassifier()\n",
    "\n",
    "steps = [('scaler', StandardScaler()),\n",
    "         ('pca', pca),\n",
    "         ('random_forest', clf)]\n",
    "\n",
    "pipeline = Pipeline(steps)\n",
    "\n",
    "parameters = dict(pca__n_components=[1, 3, 5, 7], \n",
    "              random_forest__n_estimators=[50, 100, 200])\n",
    "\n",
    "bc_X_train, bc_X_test, bc_y_train, bc_y_test = train_test_split(\n",
    "        bc_data['data'], bc_data['target'], test_size=0.2, random_state=21)\n",
    "\n",
    "\n",
    "cv = GridSearchCV(pipeline, param_grid=parameters)\n",
    "\n",
    "cv.fit(bc_X_train, bc_y_train)\n",
    "y_pred = cv.predict(bc_X_test)\n",
    "\n",
    "print(\"Accuracy: \" + str(accuracy_score(bc_y_test, y_pred)))\n",
    "print(classification_report(bc_y_test, y_pred))\n",
    "print(\"Tuned Model Parameters: \" + str(cv.best_params_))"
   ]
  }
 ],
 "metadata": {
  "anaconda-cloud": {},
  "kernelspec": {
   "display_name": "Python 3",
   "language": "python",
   "name": "python3"
  },
  "language_info": {
   "codemirror_mode": {
    "name": "ipython",
    "version": 3
   },
   "file_extension": ".py",
   "mimetype": "text/x-python",
   "name": "python",
   "nbconvert_exporter": "python",
   "pygments_lexer": "ipython3",
   "version": "3.5.2"
  }
 },
 "nbformat": 4,
 "nbformat_minor": 1
}
